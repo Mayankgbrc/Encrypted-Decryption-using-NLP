{
  "nbformat": 4,
  "nbformat_minor": 0,
  "metadata": {
    "colab": {
      "name": "Enc-dec.ipynb",
      "version": "0.3.2",
      "provenance": []
    },
    "kernelspec": {
      "name": "python3",
      "display_name": "Python 3"
    },
    "accelerator": "GPU"
  },
  "cells": [
    {
      "cell_type": "markdown",
      "metadata": {
        "id": "eniAg3k1F3ij",
        "colab_type": "text"
      },
      "source": [
        "### Step 1 : Enter the random number which will be your key.\n",
        "### Step 2 : Enter a meaningful Sentence that you want to encrypt, this will encrypt the data using Caesar Cypher method with the key you given\n",
        "### Step 3 : Enter the encrypted text in the 2nd Code block for decryption.\n",
        "\n",
        "## Example\n",
        "##### Enter the key number : 39\n",
        "##### Enter the sentence : My name is Mayank Gupta\n",
        "##### Your Encrypted text is :  pb 1NZR V6 pNbN1X j837N\n",
        "##### Enter the encrypted text : pb 1NZR V6 pNbN1X j837N\n",
        "##### Decrypted data is  My name is Mayank Gupta . Score : 0.6 . Execution time :  0.0014660358428955078\n",
        "\n"
      ]
    },
    {
      "cell_type": "markdown",
      "metadata": {
        "id": "nCRyvZzUGzN2",
        "colab_type": "text"
      },
      "source": [
        "\n",
        "## Now choose a random number for the shifting and Enter some text that you want to encrypt."
      ]
    },
    {
      "cell_type": "code",
      "metadata": {
        "id": "xsJmoacXkpYX",
        "colab_type": "code",
        "outputId": "fd68f704-18bb-48f3-bc6a-0b67df711297",
        "colab": {
          "base_uri": "https://localhost:8080/",
          "height": 102
        }
      },
      "source": [
        "import nltk\n",
        "from nltk.corpus import words\n",
        "nltk.download('words')\n",
        "import re\n",
        "\n",
        "alphabet = \"abcdefghijklmnopqrstuvwxyzABCDEFGHIJKLMNOPQRSTUVWXYZ1234567890\"\n",
        "key = int(input(\"Enter the key number : \"))\n",
        "letter = input(\"Enter the sentence : \")\n",
        "enc_data = \"\"\n",
        "for i in letter:\n",
        "  if i in alphabet:\n",
        "    pos = alphabet.find(i)\n",
        "    enc = key+pos\n",
        "    enc_data = enc_data+alphabet[enc%62]\n",
        "  else:\n",
        "    enc_data = enc_data+i\n",
        "print(\"Your Encrypted text is : \",enc_data)"
      ],
      "execution_count": 7,
      "outputs": [
        {
          "output_type": "stream",
          "text": [
            "[nltk_data] Downloading package words to /root/nltk_data...\n",
            "[nltk_data]   Package words is already up-to-date!\n",
            "Enter the key number : 39\n",
            "Enter the sentence : My name is Mayank Gupta\n",
            "Your Encrypted text is :  pb 1NZR V6 pNbN1X j837N\n"
          ],
          "name": "stdout"
        }
      ]
    },
    {
      "cell_type": "markdown",
      "metadata": {
        "id": "7Yuur-z_0cpA",
        "colab_type": "text"
      },
      "source": [
        "## Now Data is encrypted, now enter the data in the input box.\n",
        "**Decrypting data using NLP**\n"
      ]
    },
    {
      "cell_type": "code",
      "metadata": {
        "id": "xraKFmBErRRp",
        "colab_type": "code",
        "outputId": "5c5ffdd9-ddd0-499c-ca9b-daef6b944c64",
        "colab": {
          "base_uri": "https://localhost:8080/",
          "height": 51
        }
      },
      "source": [
        "import time\n",
        "wording = set(words.words())\n",
        "alphabet = \"abcdefghijklmnopqrstuvwxyzABCDEFGHIJKLMNOPQRSTUVWXYZ1234567890\"\n",
        "letter = input(\"Enter the encrypted text : \")\n",
        "start = time.time()\n",
        "length = len(letter.split())\n",
        "org_data = \"\"\n",
        "maxi = 0\n",
        "for key in range(0,62):\n",
        "  enc_data = \"\"\n",
        "  word_token = []\n",
        "  counter = 0\n",
        "  for i in letter:\n",
        "    if i in alphabet :\n",
        "      enc_data = enc_data+alphabet[(key+alphabet.find(i))%62]\n",
        "    else:\n",
        "      enc_data = enc_data+i\n",
        "  word_token = [i.lower() for i in enc_data.split()]\n",
        "  word_token = [re.sub('[!@#$.,;()\"\"?{}]<>/:+=*&%`~1234567890^', '', i) for i in word_token]\n",
        "  counter = sum([1 for i in word_token if i in wording])\n",
        "  if(counter>maxi):\n",
        "    maxi = counter\n",
        "    org_data = enc_data\n",
        "end = time.time()\n",
        "new_data = \"\"\n",
        "for i in org_data:\n",
        "  if i == ' ':\n",
        "    new_data = new_data + \" \"\n",
        "  else:\n",
        "    new_data = new_data + i\n",
        "print(\"Decrypted data is \",new_data,\". Score :\",maxi/length,\". Execution time : \",end-start)\n",
        "\n",
        "  "
      ],
      "execution_count": 8,
      "outputs": [
        {
          "output_type": "stream",
          "text": [
            "Enter the encrypted text : pb 1NZR V6 pNbN1X j837N\n",
            "Decrypted data is  My name is Mayank Gupta . Score : 0.6 . Execution time :  0.0014660358428955078\n"
          ],
          "name": "stdout"
        }
      ]
    },
    {
      "cell_type": "code",
      "metadata": {
        "id": "AMwPYPUBhWgn",
        "colab_type": "code",
        "colab": {}
      },
      "source": [
        ""
      ],
      "execution_count": 0,
      "outputs": []
    }
  ]
}